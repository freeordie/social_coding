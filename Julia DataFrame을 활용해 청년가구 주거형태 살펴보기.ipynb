{
 "cells": [
  {
   "cell_type": "markdown",
   "id": "fa0d8811",
   "metadata": {},
   "source": [
    "# 1. 패키지 준비"
   ]
  },
  {
   "cell_type": "markdown",
   "id": "e57119ed",
   "metadata": {},
   "source": [
    "- 나는 \"code\"라는 이름으로 이번 프로젝트 작업용 패키지를 설치해두었다.  \n",
    "- 이렇게 프로젝트마다 별도로 최소한의 패키지를 설치하고 최적화해야 충돌이 일어나지 않는다.  \n",
    "- 돈 안 내고 공개소프트웨어와 패키지를 활용할 때는 늘 충돌 때문에 골머리를 앓게 되는데, 이를 피하는 방법이다."
   ]
  },
  {
   "cell_type": "code",
   "execution_count": 2,
   "id": "50247fce",
   "metadata": {},
   "outputs": [
    {
     "name": "stderr",
     "output_type": "stream",
     "text": [
      "\u001b[32m\u001b[1m  Activating\u001b[22m\u001b[39m environment at `G:\\내 드라이브\\ABM\\경제코드\\2.청년가구의 방\\code\\Project.toml`\n"
     ]
    }
   ],
   "source": [
    "using Pkg\n",
    "Pkg.activate(\"code\")"
   ]
  },
  {
   "cell_type": "markdown",
   "id": "9e6ae857",
   "metadata": {},
   "source": [
    "- 아래와 같이 CSV, 데이터프레임 등 몇몇 패키지만 설치되어 있다.  \n",
    "- 작업할 때마다 메인 프로젝트에 계속 추가로 패키지를 설치하면 수십개 패키지가 설치되어 있게 마련인데, 최소화한 상태다."
   ]
  },
  {
   "cell_type": "code",
   "execution_count": 3,
   "id": "95c38a2f",
   "metadata": {},
   "outputs": [
    {
     "name": "stdout",
     "output_type": "stream",
     "text": [
      "\u001b[36m\u001b[1m     Project\u001b[22m\u001b[39m code v0.1.0\n",
      "\u001b[32m\u001b[1m      Status\u001b[22m\u001b[39m `G:\\내 드라이브\\ABM\\경제코드\\2.청년가구의 방\\code\\Project.toml`\n",
      " \u001b[90m [336ed68f] \u001b[39m\u001b[37mCSV v0.8.5 ⚲\u001b[39m\n",
      " \u001b[90m [13f3f980] \u001b[39m\u001b[37mCairoMakie v0.7.0\u001b[39m\n",
      " \u001b[90m [a93c6f00] \u001b[39m\u001b[37mDataFrames v1.3.1\u001b[39m\n",
      " \u001b[90m [c91e804a] \u001b[39m\u001b[37mGadfly v1.3.4\u001b[39m\n",
      " \u001b[90m [ee78f7c6] \u001b[39m\u001b[37mMakie v0.16.1\u001b[39m\n",
      " \u001b[90m [fdbf4ff8] \u001b[39m\u001b[37mXLSX v0.7.8\u001b[39m\n",
      " \u001b[90m [f43a241f] \u001b[39m\u001b[37mDownloads\u001b[39m\n",
      " \u001b[90m [37e2e46d] \u001b[39m\u001b[37mLinearAlgebra\u001b[39m\n",
      "Pkg.status() = nothing\n"
     ]
    }
   ],
   "source": [
    "@show Pkg.status()"
   ]
  },
  {
   "cell_type": "markdown",
   "id": "9b73cb46",
   "metadata": {},
   "source": [
    "- 이 가운데 이번 프로젝트 데이터작업을 위한 CSV와 DataFrames, 그래픽 작업을 위한 CairoMakie, 수치 연산 편의성을 위한 LinearAlgebra만 사용한다. "
   ]
  },
  {
   "cell_type": "markdown",
   "id": "d84af45f",
   "metadata": {},
   "source": [
    "# 2. 전체 1인 가구 데이터 분석"
   ]
  },
  {
   "cell_type": "markdown",
   "id": "04ad5ffb",
   "metadata": {},
   "source": [
    "## 2.1. 데이터프레임 구축"
   ]
  },
  {
   "cell_type": "code",
   "execution_count": 4,
   "id": "6795e2e3",
   "metadata": {},
   "outputs": [],
   "source": [
    "using CSV, CairoMakie, DataFrames, LinearAlgebra"
   ]
  },
  {
   "cell_type": "markdown",
   "id": "b59e5d82",
   "metadata": {},
   "source": [
    "- 아래와 같이 두 CSV파일을 읽은 뒤 컬럼 이름을 바꾸고 연도 코드를 연도명으로 바꾼다.  \n",
    "- 두 개의 CSV 파일은 통계청에서 2020년 인구주택총조사 표본조사 결과를 아래아한글 파일로 공개해둔 것을 직접 입력한 것이다.  \n",
    "- age는 1번이 20대, 2번이 30대, 3번이 40대, 4번이 50대, 5번이 60대, 6번이 70대 이상이다.  \n",
    "- year는 1번이 2015년, 2번이 2020년이다."
   ]
  },
  {
   "cell_type": "code",
   "execution_count": 7,
   "id": "b86bd747",
   "metadata": {},
   "outputs": [
    {
     "name": "stdout",
     "output_type": "stream",
     "text": [
      "insertcols!(room15, 2, :year => 1, :years => \"2015년\") = 6×7 DataFrame\n",
      " Row │ age    year   years   1      2      3      4\n",
      "     │ Int64  Int64  String  Int64  Int64  Int64  Int64\n",
      "─────┼──────────────────────────────────────────────────\n",
      "   1 │     1      1  2015년    561    134     92     91\n",
      "   2 │     2      1  2015년    317    143    181    183\n",
      "   3 │     3      1  2015년    215    133    201    211\n",
      "   4 │     4      1  2015년    171    149    257    284\n",
      "   5 │     5      1  2015년     81    111    232    311\n",
      "   6 │     6      1  2015년     73    161    380    540\n",
      "insertcols!(room20, 2, :year => 2, :years => \"2020년\") = 6×7 DataFrame\n",
      " Row │ age    year   years   1      2      3      4\n",
      "     │ Int64  Int64  String  Int64  Int64  Int64  Int64\n",
      "─────┼──────────────────────────────────────────────────\n",
      "   1 │     1      2  2020년    399    457    308    179\n",
      "   2 │     2      2  2020년    164    294    334    324\n",
      "   3 │     3      2  2020년    115    172    283    333\n",
      "   4 │     4      2  2020년    126    169    339    405\n",
      "   5 │     5      2  2020년     92    135    354    458\n",
      "   6 │     6      2  2020년     61    140    424    578\n"
     ]
    },
    {
     "data": {
      "text/html": [
       "<div class=\"data-frame\"><p>6 rows × 7 columns</p><table class=\"data-frame\"><thead><tr><th></th><th>age</th><th>year</th><th>years</th><th>1</th><th>2</th><th>3</th><th>4</th></tr><tr><th></th><th title=\"Int64\">Int64</th><th title=\"Int64\">Int64</th><th title=\"String\">String</th><th title=\"Int64\">Int64</th><th title=\"Int64\">Int64</th><th title=\"Int64\">Int64</th><th title=\"Int64\">Int64</th></tr></thead><tbody><tr><th>1</th><td>1</td><td>2</td><td>2020년</td><td>399</td><td>457</td><td>308</td><td>179</td></tr><tr><th>2</th><td>2</td><td>2</td><td>2020년</td><td>164</td><td>294</td><td>334</td><td>324</td></tr><tr><th>3</th><td>3</td><td>2</td><td>2020년</td><td>115</td><td>172</td><td>283</td><td>333</td></tr><tr><th>4</th><td>4</td><td>2</td><td>2020년</td><td>126</td><td>169</td><td>339</td><td>405</td></tr><tr><th>5</th><td>5</td><td>2</td><td>2020년</td><td>92</td><td>135</td><td>354</td><td>458</td></tr><tr><th>6</th><td>6</td><td>2</td><td>2020년</td><td>61</td><td>140</td><td>424</td><td>578</td></tr></tbody></table></div>"
      ],
      "text/latex": [
       "\\begin{tabular}{r|ccccccc}\n",
       "\t& age & year & years & 1 & 2 & 3 & 4\\\\\n",
       "\t\\hline\n",
       "\t& Int64 & Int64 & String & Int64 & Int64 & Int64 & Int64\\\\\n",
       "\t\\hline\n",
       "\t1 & 1 & 2 & 2020년 & 399 & 457 & 308 & 179 \\\\\n",
       "\t2 & 2 & 2 & 2020년 & 164 & 294 & 334 & 324 \\\\\n",
       "\t3 & 3 & 2 & 2020년 & 115 & 172 & 283 & 333 \\\\\n",
       "\t4 & 4 & 2 & 2020년 & 126 & 169 & 339 & 405 \\\\\n",
       "\t5 & 5 & 2 & 2020년 & 92 & 135 & 354 & 458 \\\\\n",
       "\t6 & 6 & 2 & 2020년 & 61 & 140 & 424 & 578 \\\\\n",
       "\\end{tabular}\n"
      ],
      "text/plain": [
       "\u001b[1m6×7 DataFrame\u001b[0m\n",
       "\u001b[1m Row \u001b[0m│\u001b[1m age   \u001b[0m\u001b[1m year  \u001b[0m\u001b[1m years  \u001b[0m\u001b[1m 1     \u001b[0m\u001b[1m 2     \u001b[0m\u001b[1m 3     \u001b[0m\u001b[1m 4     \u001b[0m\n",
       "\u001b[1m     \u001b[0m│\u001b[90m Int64 \u001b[0m\u001b[90m Int64 \u001b[0m\u001b[90m String \u001b[0m\u001b[90m Int64 \u001b[0m\u001b[90m Int64 \u001b[0m\u001b[90m Int64 \u001b[0m\u001b[90m Int64 \u001b[0m\n",
       "─────┼──────────────────────────────────────────────────\n",
       "   1 │     1      2  2020년    399    457    308    179\n",
       "   2 │     2      2  2020년    164    294    334    324\n",
       "   3 │     3      2  2020년    115    172    283    333\n",
       "   4 │     4      2  2020년    126    169    339    405\n",
       "   5 │     5      2  2020년     92    135    354    458\n",
       "   6 │     6      2  2020년     61    140    424    578"
      ]
     },
     "execution_count": 7,
     "metadata": {},
     "output_type": "execute_result"
    }
   ],
   "source": [
    "room15 = CSV.read(\"G:\\\\내 드라이브\\\\ABM\\\\경제코드\\\\2.청년가구의 방\\\\세대별사용방수_2015.csv\", DataFrame, header=true)\n",
    "room20 = CSV.read(\"G:\\\\내 드라이브\\\\ABM\\\\경제코드\\\\2.청년가구의 방\\\\세대별사용방수_2020.csv\", DataFrame, header=true)\n",
    "rename!(room15, :Column1 => :age)\n",
    "rename!(room20, :Column1 => :age)\n",
    "@show insertcols!(room15, 2, :year => 1, :years => \"2015년\") # 1 = year 2015\n",
    "@show insertcols!(room20, 2, :year => 2, :years => \"2020년\") # 2 = year 2020"
   ]
  },
  {
   "cell_type": "markdown",
   "id": "a778431c",
   "metadata": {},
   "source": [
    "- 2015, 2020년 각각 다른 데이터프레임에 들어 있는데, 이 두 개를 합쳐 rooms라는 하나의 데이터프레임으로 바꾼다.  \n",
    "- 이때 데이터는 longform으로 바꾸어 CairoMakie에서 작업하기 편하게 변환한다.  "
   ]
  },
  {
   "cell_type": "code",
   "execution_count": 8,
   "id": "701e5db5",
   "metadata": {},
   "outputs": [
    {
     "data": {
      "text/html": [
       "<div class=\"data-frame\"><p>48 rows × 5 columns</p><table class=\"data-frame\"><thead><tr><th></th><th>age</th><th>year</th><th>years</th><th>variable</th><th>value</th></tr><tr><th></th><th title=\"Int64\">Int64</th><th title=\"Int64\">Int64</th><th title=\"String\">String</th><th title=\"String\">String</th><th title=\"Int64\">Int64</th></tr></thead><tbody><tr><th>1</th><td>1</td><td>1</td><td>2015년</td><td>1</td><td>561</td></tr><tr><th>2</th><td>2</td><td>1</td><td>2015년</td><td>1</td><td>317</td></tr><tr><th>3</th><td>3</td><td>1</td><td>2015년</td><td>1</td><td>215</td></tr><tr><th>4</th><td>4</td><td>1</td><td>2015년</td><td>1</td><td>171</td></tr><tr><th>5</th><td>5</td><td>1</td><td>2015년</td><td>1</td><td>81</td></tr><tr><th>6</th><td>6</td><td>1</td><td>2015년</td><td>1</td><td>73</td></tr><tr><th>7</th><td>1</td><td>1</td><td>2015년</td><td>2</td><td>134</td></tr><tr><th>8</th><td>2</td><td>1</td><td>2015년</td><td>2</td><td>143</td></tr><tr><th>9</th><td>3</td><td>1</td><td>2015년</td><td>2</td><td>133</td></tr><tr><th>10</th><td>4</td><td>1</td><td>2015년</td><td>2</td><td>149</td></tr><tr><th>11</th><td>5</td><td>1</td><td>2015년</td><td>2</td><td>111</td></tr><tr><th>12</th><td>6</td><td>1</td><td>2015년</td><td>2</td><td>161</td></tr><tr><th>13</th><td>1</td><td>1</td><td>2015년</td><td>3</td><td>92</td></tr><tr><th>14</th><td>2</td><td>1</td><td>2015년</td><td>3</td><td>181</td></tr><tr><th>15</th><td>3</td><td>1</td><td>2015년</td><td>3</td><td>201</td></tr><tr><th>16</th><td>4</td><td>1</td><td>2015년</td><td>3</td><td>257</td></tr><tr><th>17</th><td>5</td><td>1</td><td>2015년</td><td>3</td><td>232</td></tr><tr><th>18</th><td>6</td><td>1</td><td>2015년</td><td>3</td><td>380</td></tr><tr><th>19</th><td>1</td><td>1</td><td>2015년</td><td>4</td><td>91</td></tr><tr><th>20</th><td>2</td><td>1</td><td>2015년</td><td>4</td><td>183</td></tr><tr><th>21</th><td>3</td><td>1</td><td>2015년</td><td>4</td><td>211</td></tr><tr><th>22</th><td>4</td><td>1</td><td>2015년</td><td>4</td><td>284</td></tr><tr><th>23</th><td>5</td><td>1</td><td>2015년</td><td>4</td><td>311</td></tr><tr><th>24</th><td>6</td><td>1</td><td>2015년</td><td>4</td><td>540</td></tr><tr><th>25</th><td>1</td><td>2</td><td>2020년</td><td>1</td><td>399</td></tr><tr><th>26</th><td>2</td><td>2</td><td>2020년</td><td>1</td><td>164</td></tr><tr><th>27</th><td>3</td><td>2</td><td>2020년</td><td>1</td><td>115</td></tr><tr><th>28</th><td>4</td><td>2</td><td>2020년</td><td>1</td><td>126</td></tr><tr><th>29</th><td>5</td><td>2</td><td>2020년</td><td>1</td><td>92</td></tr><tr><th>30</th><td>6</td><td>2</td><td>2020년</td><td>1</td><td>61</td></tr><tr><th>&vellip;</th><td>&vellip;</td><td>&vellip;</td><td>&vellip;</td><td>&vellip;</td><td>&vellip;</td></tr></tbody></table></div>"
      ],
      "text/latex": [
       "\\begin{tabular}{r|ccccc}\n",
       "\t& age & year & years & variable & value\\\\\n",
       "\t\\hline\n",
       "\t& Int64 & Int64 & String & String & Int64\\\\\n",
       "\t\\hline\n",
       "\t1 & 1 & 1 & 2015년 & 1 & 561 \\\\\n",
       "\t2 & 2 & 1 & 2015년 & 1 & 317 \\\\\n",
       "\t3 & 3 & 1 & 2015년 & 1 & 215 \\\\\n",
       "\t4 & 4 & 1 & 2015년 & 1 & 171 \\\\\n",
       "\t5 & 5 & 1 & 2015년 & 1 & 81 \\\\\n",
       "\t6 & 6 & 1 & 2015년 & 1 & 73 \\\\\n",
       "\t7 & 1 & 1 & 2015년 & 2 & 134 \\\\\n",
       "\t8 & 2 & 1 & 2015년 & 2 & 143 \\\\\n",
       "\t9 & 3 & 1 & 2015년 & 2 & 133 \\\\\n",
       "\t10 & 4 & 1 & 2015년 & 2 & 149 \\\\\n",
       "\t11 & 5 & 1 & 2015년 & 2 & 111 \\\\\n",
       "\t12 & 6 & 1 & 2015년 & 2 & 161 \\\\\n",
       "\t13 & 1 & 1 & 2015년 & 3 & 92 \\\\\n",
       "\t14 & 2 & 1 & 2015년 & 3 & 181 \\\\\n",
       "\t15 & 3 & 1 & 2015년 & 3 & 201 \\\\\n",
       "\t16 & 4 & 1 & 2015년 & 3 & 257 \\\\\n",
       "\t17 & 5 & 1 & 2015년 & 3 & 232 \\\\\n",
       "\t18 & 6 & 1 & 2015년 & 3 & 380 \\\\\n",
       "\t19 & 1 & 1 & 2015년 & 4 & 91 \\\\\n",
       "\t20 & 2 & 1 & 2015년 & 4 & 183 \\\\\n",
       "\t21 & 3 & 1 & 2015년 & 4 & 211 \\\\\n",
       "\t22 & 4 & 1 & 2015년 & 4 & 284 \\\\\n",
       "\t23 & 5 & 1 & 2015년 & 4 & 311 \\\\\n",
       "\t24 & 6 & 1 & 2015년 & 4 & 540 \\\\\n",
       "\t25 & 1 & 2 & 2020년 & 1 & 399 \\\\\n",
       "\t26 & 2 & 2 & 2020년 & 1 & 164 \\\\\n",
       "\t27 & 3 & 2 & 2020년 & 1 & 115 \\\\\n",
       "\t28 & 4 & 2 & 2020년 & 1 & 126 \\\\\n",
       "\t29 & 5 & 2 & 2020년 & 1 & 92 \\\\\n",
       "\t30 & 6 & 2 & 2020년 & 1 & 61 \\\\\n",
       "\t$\\dots$ & $\\dots$ & $\\dots$ & $\\dots$ & $\\dots$ & $\\dots$ \\\\\n",
       "\\end{tabular}\n"
      ],
      "text/plain": [
       "\u001b[1m48×5 DataFrame\u001b[0m\n",
       "\u001b[1m Row \u001b[0m│\u001b[1m age   \u001b[0m\u001b[1m year  \u001b[0m\u001b[1m years  \u001b[0m\u001b[1m variable \u001b[0m\u001b[1m value \u001b[0m\n",
       "\u001b[1m     \u001b[0m│\u001b[90m Int64 \u001b[0m\u001b[90m Int64 \u001b[0m\u001b[90m String \u001b[0m\u001b[90m String   \u001b[0m\u001b[90m Int64 \u001b[0m\n",
       "─────┼───────────────────────────────────────\n",
       "   1 │     1      1  2015년  1           561\n",
       "   2 │     2      1  2015년  1           317\n",
       "   3 │     3      1  2015년  1           215\n",
       "   4 │     4      1  2015년  1           171\n",
       "   5 │     5      1  2015년  1            81\n",
       "   6 │     6      1  2015년  1            73\n",
       "   7 │     1      1  2015년  2           134\n",
       "   8 │     2      1  2015년  2           143\n",
       "   9 │     3      1  2015년  2           133\n",
       "  10 │     4      1  2015년  2           149\n",
       "  11 │     5      1  2015년  2           111\n",
       "  ⋮  │   ⋮      ⋮      ⋮        ⋮        ⋮\n",
       "  39 │     3      2  2020년  3           283\n",
       "  40 │     4      2  2020년  3           339\n",
       "  41 │     5      2  2020년  3           354\n",
       "  42 │     6      2  2020년  3           424\n",
       "  43 │     1      2  2020년  4           179\n",
       "  44 │     2      2  2020년  4           324\n",
       "  45 │     3      2  2020년  4           333\n",
       "  46 │     4      2  2020년  4           405\n",
       "  47 │     5      2  2020년  4           458\n",
       "  48 │     6      2  2020년  4           578\n",
       "\u001b[36m                              27 rows omitted\u001b[0m"
      ]
     },
     "execution_count": 8,
     "metadata": {},
     "output_type": "execute_result"
    }
   ],
   "source": [
    "rooms = vcat(stack(room15, [:4, :5, :6, :7]), stack(room20, [:4, :5, :6, :7]))"
   ]
  },
  {
   "cell_type": "markdown",
   "id": "00a568dd",
   "metadata": {},
   "source": [
    "- 방 갯수가 문자열(string) type으로 되어 있는데, CairoMakie에서 인식할 수 있도록 정수(Integer) type으로 바꿔준다."
   ]
  },
  {
   "cell_type": "code",
   "execution_count": 9,
   "id": "7f9cd926",
   "metadata": {},
   "outputs": [
    {
     "data": {
      "text/plain": [
       "48-element Vector{Int64}:\n",
       " 1\n",
       " 1\n",
       " 1\n",
       " 1\n",
       " 1\n",
       " 1\n",
       " 2\n",
       " 2\n",
       " 2\n",
       " 2\n",
       " 2\n",
       " 2\n",
       " 3\n",
       " ⋮\n",
       " 3\n",
       " 3\n",
       " 3\n",
       " 3\n",
       " 3\n",
       " 3\n",
       " 4\n",
       " 4\n",
       " 4\n",
       " 4\n",
       " 4\n",
       " 4"
      ]
     },
     "execution_count": 9,
     "metadata": {},
     "output_type": "execute_result"
    }
   ],
   "source": [
    "rooms.room = parse.(Int, rooms.variable)\n",
    "#rooms.num = parse.(Float64, rooms.value)"
   ]
  },
  {
   "cell_type": "markdown",
   "id": "8457c090",
   "metadata": {},
   "source": [
    "## 2.2. 그래프 그리기"
   ]
  },
  {
   "cell_type": "markdown",
   "id": "a72f9727",
   "metadata": {},
   "source": [
    "- CairoMakie를 활용해 세대별, 사용 방 수별 가구수를 Barplot으로 그린다.  \n",
    "- 가로축은 세대, 세대 내 두 개의 바는 왼쪽이 2015년이고 오른쪽이 2020년이다.  \n",
    "- 세로축은 세대 전체에서 해당 갯수의 방을 사용하는 1인 가구의 수다."
   ]
  },
  {
   "cell_type": "code",
   "execution_count": 10,
   "id": "a171945a",
   "metadata": {},
   "outputs": [
    {
     "data": {
      "image/png": "[encoded data removed]",
      "text/plain": [
       "Figure()"
      ]
     },
     "execution_count": 10,
     "metadata": {},
     "output_type": "execute_result"
    }
   ],
   "source": [
    "colors = Makie.wong_colors()\n",
    "\n",
    "# Figure and Axis\n",
    "fig = Figure()\n",
    "ax = Axis(fig[1,1], xticks = (1:6, [\"20대 이하\", \"30대\", \"40대\", \"50대\", \"60대\", \"70대 이상\"]),\n",
    "        title = \"세대별 사용 방 수, 2015년과 2020년\")\n",
    "\n",
    "# Plot\n",
    "barplot!(ax, rooms.age, rooms.value, stack = rooms.room, dodge = rooms.year,\n",
    "        color = colors[rooms.room])\n",
    "\n",
    "# Legend\n",
    "labels = [\"방 1개\", \"방 2개\", \"방 3개\", \"방 4개 이상\"]\n",
    "elements = [PolyElement(polycolor = colors[i]) for i in 1:length(labels)]\n",
    "title = \"세대\"\n",
    "\n",
    "Legend(fig[1,2], elements, labels, title)\n",
    "\n",
    "fig"
   ]
  },
  {
   "cell_type": "markdown",
   "id": "9485103a",
   "metadata": {},
   "source": [
    "- 확실히 1인가구가 늘어나고 있으나, 단칸방 사는 1인가구는 오히려 줄고 있으며, 젊을수록 변화가 크다는 점을 알 수 있었다.\n",
    "- 그런데 여기까지 그려놓고 주변에 보여주니, 너무 복잡해서 이해가 어렵다는 평이 많았다.  \n",
    "- 분석가나 chartist에게는 훌륭한 그래프일 수 있으나, 일반인에게는 너무 어렵겠다는 생각이 들었다.  \n",
    "- 이 글의 주제인 20대만 따로 빼내 그래프를 그리기로 했다."
   ]
  },
  {
   "cell_type": "markdown",
   "id": "7c9704e4",
   "metadata": {},
   "source": [
    "# 3. 20대 1인 가구 데이터 분석"
   ]
  },
  {
   "cell_type": "markdown",
   "id": "d9da1400",
   "metadata": {},
   "source": [
    "## 3.1. 가구수 분석"
   ]
  },
  {
   "cell_type": "markdown",
   "id": "a7ea15d1",
   "metadata": {},
   "source": [
    "### 3.1.2. 데이터프레임 구축"
   ]
  },
  {
   "cell_type": "markdown",
   "id": "20ad04bd",
   "metadata": {},
   "source": [
    "- 전체 1인가구 데이터에서 20대 1인 가구만 뽑아내 분석해 본다.  \n",
    "- 먼저 전체 데이터프레임을 재구축한다."
   ]
  },
  {
   "cell_type": "code",
   "execution_count": 24,
   "id": "4c03ec1a",
   "metadata": {},
   "outputs": [
    {
     "name": "stdout",
     "output_type": "stream",
     "text": [
      "insertcols!(room15, 2, :year => 1, :years => \"2015년\") = 6×7 DataFrame\n",
      " Row │ age    year   years   1      2      3      4\n",
      "     │ Int64  Int64  String  Int64  Int64  Int64  Int64\n",
      "─────┼──────────────────────────────────────────────────\n",
      "   1 │     1      1  2015년    561    134     92     91\n",
      "   2 │     2      1  2015년    317    143    181    183\n",
      "   3 │     3      1  2015년    215    133    201    211\n",
      "   4 │     4      1  2015년    171    149    257    284\n",
      "   5 │     5      1  2015년     81    111    232    311\n",
      "   6 │     6      1  2015년     73    161    380    540\n",
      "insertcols!(room20, 2, :year => 2, :years => \"2020년\") = 6×7 DataFrame\n",
      " Row │ age    year   years   1      2      3      4\n",
      "     │ Int64  Int64  String  Int64  Int64  Int64  Int64\n",
      "─────┼──────────────────────────────────────────────────\n",
      "   1 │     1      2  2020년    399    457    308    179\n",
      "   2 │     2      2  2020년    164    294    334    324\n",
      "   3 │     3      2  2020년    115    172    283    333\n",
      "   4 │     4      2  2020년    126    169    339    405\n",
      "   5 │     5      2  2020년     92    135    354    458\n",
      "   6 │     6      2  2020년     61    140    424    578\n"
     ]
    },
    {
     "data": {
      "text/html": [
       "<div class=\"data-frame\"><p>6 rows × 7 columns</p><table class=\"data-frame\"><thead><tr><th></th><th>age</th><th>year</th><th>years</th><th>1</th><th>2</th><th>3</th><th>4</th></tr><tr><th></th><th title=\"Int64\">Int64</th><th title=\"Int64\">Int64</th><th title=\"String\">String</th><th title=\"Int64\">Int64</th><th title=\"Int64\">Int64</th><th title=\"Int64\">Int64</th><th title=\"Int64\">Int64</th></tr></thead><tbody><tr><th>1</th><td>1</td><td>2</td><td>2020년</td><td>399</td><td>457</td><td>308</td><td>179</td></tr><tr><th>2</th><td>2</td><td>2</td><td>2020년</td><td>164</td><td>294</td><td>334</td><td>324</td></tr><tr><th>3</th><td>3</td><td>2</td><td>2020년</td><td>115</td><td>172</td><td>283</td><td>333</td></tr><tr><th>4</th><td>4</td><td>2</td><td>2020년</td><td>126</td><td>169</td><td>339</td><td>405</td></tr><tr><th>5</th><td>5</td><td>2</td><td>2020년</td><td>92</td><td>135</td><td>354</td><td>458</td></tr><tr><th>6</th><td>6</td><td>2</td><td>2020년</td><td>61</td><td>140</td><td>424</td><td>578</td></tr></tbody></table></div>"
      ],
      "text/latex": [
       "\\begin{tabular}{r|ccccccc}\n",
       "\t& age & year & years & 1 & 2 & 3 & 4\\\\\n",
       "\t\\hline\n",
       "\t& Int64 & Int64 & String & Int64 & Int64 & Int64 & Int64\\\\\n",
       "\t\\hline\n",
       "\t1 & 1 & 2 & 2020년 & 399 & 457 & 308 & 179 \\\\\n",
       "\t2 & 2 & 2 & 2020년 & 164 & 294 & 334 & 324 \\\\\n",
       "\t3 & 3 & 2 & 2020년 & 115 & 172 & 283 & 333 \\\\\n",
       "\t4 & 4 & 2 & 2020년 & 126 & 169 & 339 & 405 \\\\\n",
       "\t5 & 5 & 2 & 2020년 & 92 & 135 & 354 & 458 \\\\\n",
       "\t6 & 6 & 2 & 2020년 & 61 & 140 & 424 & 578 \\\\\n",
       "\\end{tabular}\n"
      ],
      "text/plain": [
       "\u001b[1m6×7 DataFrame\u001b[0m\n",
       "\u001b[1m Row \u001b[0m│\u001b[1m age   \u001b[0m\u001b[1m year  \u001b[0m\u001b[1m years  \u001b[0m\u001b[1m 1     \u001b[0m\u001b[1m 2     \u001b[0m\u001b[1m 3     \u001b[0m\u001b[1m 4     \u001b[0m\n",
       "\u001b[1m     \u001b[0m│\u001b[90m Int64 \u001b[0m\u001b[90m Int64 \u001b[0m\u001b[90m String \u001b[0m\u001b[90m Int64 \u001b[0m\u001b[90m Int64 \u001b[0m\u001b[90m Int64 \u001b[0m\u001b[90m Int64 \u001b[0m\n",
       "─────┼──────────────────────────────────────────────────\n",
       "   1 │     1      2  2020년    399    457    308    179\n",
       "   2 │     2      2  2020년    164    294    334    324\n",
       "   3 │     3      2  2020년    115    172    283    333\n",
       "   4 │     4      2  2020년    126    169    339    405\n",
       "   5 │     5      2  2020년     92    135    354    458\n",
       "   6 │     6      2  2020년     61    140    424    578"
      ]
     },
     "execution_count": 24,
     "metadata": {},
     "output_type": "execute_result"
    }
   ],
   "source": [
    "room15 = CSV.read(\"G:\\\\내 드라이브\\\\ABM\\\\경제코드\\\\2.청년가구의 방\\\\세대별사용방수_2015.csv\", DataFrame, header=true)\n",
    "room20 = CSV.read(\"G:\\\\내 드라이브\\\\ABM\\\\경제코드\\\\2.청년가구의 방\\\\세대별사용방수_2020.csv\", DataFrame, header=true)\n",
    "rename!(room15, :Column1 => :age)\n",
    "rename!(room20, :Column1 => :age)\n",
    "@show insertcols!(room15, 2, :year => 1, :years => \"2015년\") # 1 = year 2015\n",
    "@show insertcols!(room20, 2, :year => 2, :years => \"2020년\") # 2 = year 2020"
   ]
  },
  {
   "cell_type": "markdown",
   "id": "2d663b00",
   "metadata": {},
   "source": [
    "- 전체 1인가구 분석 때와 마찬가지로 longform으로 변환하며 두 개 연도 데이터를 합친다."
   ]
  },
  {
   "cell_type": "code",
   "execution_count": 25,
   "id": "384e5d9e",
   "metadata": {},
   "outputs": [
    {
     "data": {
      "text/html": [
       "<div class=\"data-frame\"><p>48 rows × 5 columns</p><table class=\"data-frame\"><thead><tr><th></th><th>age</th><th>year</th><th>years</th><th>variable</th><th>value</th></tr><tr><th></th><th title=\"Int64\">Int64</th><th title=\"Int64\">Int64</th><th title=\"String\">String</th><th title=\"String\">String</th><th title=\"Int64\">Int64</th></tr></thead><tbody><tr><th>1</th><td>1</td><td>1</td><td>2015년</td><td>1</td><td>561</td></tr><tr><th>2</th><td>2</td><td>1</td><td>2015년</td><td>1</td><td>317</td></tr><tr><th>3</th><td>3</td><td>1</td><td>2015년</td><td>1</td><td>215</td></tr><tr><th>4</th><td>4</td><td>1</td><td>2015년</td><td>1</td><td>171</td></tr><tr><th>5</th><td>5</td><td>1</td><td>2015년</td><td>1</td><td>81</td></tr><tr><th>6</th><td>6</td><td>1</td><td>2015년</td><td>1</td><td>73</td></tr><tr><th>7</th><td>1</td><td>1</td><td>2015년</td><td>2</td><td>134</td></tr><tr><th>8</th><td>2</td><td>1</td><td>2015년</td><td>2</td><td>143</td></tr><tr><th>9</th><td>3</td><td>1</td><td>2015년</td><td>2</td><td>133</td></tr><tr><th>10</th><td>4</td><td>1</td><td>2015년</td><td>2</td><td>149</td></tr><tr><th>11</th><td>5</td><td>1</td><td>2015년</td><td>2</td><td>111</td></tr><tr><th>12</th><td>6</td><td>1</td><td>2015년</td><td>2</td><td>161</td></tr><tr><th>13</th><td>1</td><td>1</td><td>2015년</td><td>3</td><td>92</td></tr><tr><th>14</th><td>2</td><td>1</td><td>2015년</td><td>3</td><td>181</td></tr><tr><th>15</th><td>3</td><td>1</td><td>2015년</td><td>3</td><td>201</td></tr><tr><th>16</th><td>4</td><td>1</td><td>2015년</td><td>3</td><td>257</td></tr><tr><th>17</th><td>5</td><td>1</td><td>2015년</td><td>3</td><td>232</td></tr><tr><th>18</th><td>6</td><td>1</td><td>2015년</td><td>3</td><td>380</td></tr><tr><th>19</th><td>1</td><td>1</td><td>2015년</td><td>4</td><td>91</td></tr><tr><th>20</th><td>2</td><td>1</td><td>2015년</td><td>4</td><td>183</td></tr><tr><th>21</th><td>3</td><td>1</td><td>2015년</td><td>4</td><td>211</td></tr><tr><th>22</th><td>4</td><td>1</td><td>2015년</td><td>4</td><td>284</td></tr><tr><th>23</th><td>5</td><td>1</td><td>2015년</td><td>4</td><td>311</td></tr><tr><th>24</th><td>6</td><td>1</td><td>2015년</td><td>4</td><td>540</td></tr><tr><th>25</th><td>1</td><td>2</td><td>2020년</td><td>1</td><td>399</td></tr><tr><th>26</th><td>2</td><td>2</td><td>2020년</td><td>1</td><td>164</td></tr><tr><th>27</th><td>3</td><td>2</td><td>2020년</td><td>1</td><td>115</td></tr><tr><th>28</th><td>4</td><td>2</td><td>2020년</td><td>1</td><td>126</td></tr><tr><th>29</th><td>5</td><td>2</td><td>2020년</td><td>1</td><td>92</td></tr><tr><th>30</th><td>6</td><td>2</td><td>2020년</td><td>1</td><td>61</td></tr><tr><th>&vellip;</th><td>&vellip;</td><td>&vellip;</td><td>&vellip;</td><td>&vellip;</td><td>&vellip;</td></tr></tbody></table></div>"
      ],
      "text/latex": [
       "\\begin{tabular}{r|ccccc}\n",
       "\t& age & year & years & variable & value\\\\\n",
       "\t\\hline\n",
       "\t& Int64 & Int64 & String & String & Int64\\\\\n",
       "\t\\hline\n",
       "\t1 & 1 & 1 & 2015년 & 1 & 561 \\\\\n",
       "\t2 & 2 & 1 & 2015년 & 1 & 317 \\\\\n",
       "\t3 & 3 & 1 & 2015년 & 1 & 215 \\\\\n",
       "\t4 & 4 & 1 & 2015년 & 1 & 171 \\\\\n",
       "\t5 & 5 & 1 & 2015년 & 1 & 81 \\\\\n",
       "\t6 & 6 & 1 & 2015년 & 1 & 73 \\\\\n",
       "\t7 & 1 & 1 & 2015년 & 2 & 134 \\\\\n",
       "\t8 & 2 & 1 & 2015년 & 2 & 143 \\\\\n",
       "\t9 & 3 & 1 & 2015년 & 2 & 133 \\\\\n",
       "\t10 & 4 & 1 & 2015년 & 2 & 149 \\\\\n",
       "\t11 & 5 & 1 & 2015년 & 2 & 111 \\\\\n",
       "\t12 & 6 & 1 & 2015년 & 2 & 161 \\\\\n",
       "\t13 & 1 & 1 & 2015년 & 3 & 92 \\\\\n",
       "\t14 & 2 & 1 & 2015년 & 3 & 181 \\\\\n",
       "\t15 & 3 & 1 & 2015년 & 3 & 201 \\\\\n",
       "\t16 & 4 & 1 & 2015년 & 3 & 257 \\\\\n",
       "\t17 & 5 & 1 & 2015년 & 3 & 232 \\\\\n",
       "\t18 & 6 & 1 & 2015년 & 3 & 380 \\\\\n",
       "\t19 & 1 & 1 & 2015년 & 4 & 91 \\\\\n",
       "\t20 & 2 & 1 & 2015년 & 4 & 183 \\\\\n",
       "\t21 & 3 & 1 & 2015년 & 4 & 211 \\\\\n",
       "\t22 & 4 & 1 & 2015년 & 4 & 284 \\\\\n",
       "\t23 & 5 & 1 & 2015년 & 4 & 311 \\\\\n",
       "\t24 & 6 & 1 & 2015년 & 4 & 540 \\\\\n",
       "\t25 & 1 & 2 & 2020년 & 1 & 399 \\\\\n",
       "\t26 & 2 & 2 & 2020년 & 1 & 164 \\\\\n",
       "\t27 & 3 & 2 & 2020년 & 1 & 115 \\\\\n",
       "\t28 & 4 & 2 & 2020년 & 1 & 126 \\\\\n",
       "\t29 & 5 & 2 & 2020년 & 1 & 92 \\\\\n",
       "\t30 & 6 & 2 & 2020년 & 1 & 61 \\\\\n",
       "\t$\\dots$ & $\\dots$ & $\\dots$ & $\\dots$ & $\\dots$ & $\\dots$ \\\\\n",
       "\\end{tabular}\n"
      ],
      "text/plain": [
       "\u001b[1m48×5 DataFrame\u001b[0m\n",
       "\u001b[1m Row \u001b[0m│\u001b[1m age   \u001b[0m\u001b[1m year  \u001b[0m\u001b[1m years  \u001b[0m\u001b[1m variable \u001b[0m\u001b[1m value \u001b[0m\n",
       "\u001b[1m     \u001b[0m│\u001b[90m Int64 \u001b[0m\u001b[90m Int64 \u001b[0m\u001b[90m String \u001b[0m\u001b[90m String   \u001b[0m\u001b[90m Int64 \u001b[0m\n",
       "─────┼───────────────────────────────────────\n",
       "   1 │     1      1  2015년  1           561\n",
       "   2 │     2      1  2015년  1           317\n",
       "   3 │     3      1  2015년  1           215\n",
       "   4 │     4      1  2015년  1           171\n",
       "   5 │     5      1  2015년  1            81\n",
       "   6 │     6      1  2015년  1            73\n",
       "   7 │     1      1  2015년  2           134\n",
       "   8 │     2      1  2015년  2           143\n",
       "   9 │     3      1  2015년  2           133\n",
       "  10 │     4      1  2015년  2           149\n",
       "  11 │     5      1  2015년  2           111\n",
       "  ⋮  │   ⋮      ⋮      ⋮        ⋮        ⋮\n",
       "  39 │     3      2  2020년  3           283\n",
       "  40 │     4      2  2020년  3           339\n",
       "  41 │     5      2  2020년  3           354\n",
       "  42 │     6      2  2020년  3           424\n",
       "  43 │     1      2  2020년  4           179\n",
       "  44 │     2      2  2020년  4           324\n",
       "  45 │     3      2  2020년  4           333\n",
       "  46 │     4      2  2020년  4           405\n",
       "  47 │     5      2  2020년  4           458\n",
       "  48 │     6      2  2020년  4           578\n",
       "\u001b[36m                              27 rows omitted\u001b[0m"
      ]
     },
     "execution_count": 25,
     "metadata": {},
     "output_type": "execute_result"
    }
   ],
   "source": [
    "rooms = vcat(stack(room15, [:4, :5, :6, :7]), stack(room20, [:4, :5, :6, :7]))"
   ]
  },
  {
   "cell_type": "markdown",
   "id": "66b1485d",
   "metadata": {},
   "source": [
    "- 위와 마찬가지로 정수형으로 변환한다."
   ]
  },
  {
   "cell_type": "code",
   "execution_count": 26,
   "id": "022010ff",
   "metadata": {},
   "outputs": [
    {
     "data": {
      "text/plain": [
       "48-element Vector{Int64}:\n",
       " 1\n",
       " 1\n",
       " 1\n",
       " 1\n",
       " 1\n",
       " 1\n",
       " 2\n",
       " 2\n",
       " 2\n",
       " 2\n",
       " 2\n",
       " 2\n",
       " 3\n",
       " ⋮\n",
       " 3\n",
       " 3\n",
       " 3\n",
       " 3\n",
       " 3\n",
       " 3\n",
       " 4\n",
       " 4\n",
       " 4\n",
       " 4\n",
       " 4\n",
       " 4"
      ]
     },
     "execution_count": 26,
     "metadata": {},
     "output_type": "execute_result"
    }
   ],
   "source": [
    "rooms.room = parse.(Int, rooms.variable)\n",
    "#rooms.num = parse.(Float64, rooms.value)"
   ]
  },
  {
   "cell_type": "markdown",
   "id": "1039fff9",
   "metadata": {},
   "source": [
    "- 20대 데이터만 subset으로 뽑아내 rooms_20 데이터프레임을 별도로 만든다."
   ]
  },
  {
   "cell_type": "code",
   "execution_count": 27,
   "id": "32600242",
   "metadata": {},
   "outputs": [
    {
     "data": {
      "text/html": [
       "<div class=\"data-frame\"><p>8 rows × 6 columns</p><table class=\"data-frame\"><thead><tr><th></th><th>age</th><th>year</th><th>years</th><th>variable</th><th>value</th><th>room</th></tr><tr><th></th><th title=\"Int64\">Int64</th><th title=\"Int64\">Int64</th><th title=\"String\">String</th><th title=\"String\">String</th><th title=\"Int64\">Int64</th><th title=\"Int64\">Int64</th></tr></thead><tbody><tr><th>1</th><td>1</td><td>1</td><td>2015년</td><td>1</td><td>561</td><td>1</td></tr><tr><th>2</th><td>1</td><td>1</td><td>2015년</td><td>2</td><td>134</td><td>2</td></tr><tr><th>3</th><td>1</td><td>1</td><td>2015년</td><td>3</td><td>92</td><td>3</td></tr><tr><th>4</th><td>1</td><td>1</td><td>2015년</td><td>4</td><td>91</td><td>4</td></tr><tr><th>5</th><td>1</td><td>2</td><td>2020년</td><td>1</td><td>399</td><td>1</td></tr><tr><th>6</th><td>1</td><td>2</td><td>2020년</td><td>2</td><td>457</td><td>2</td></tr><tr><th>7</th><td>1</td><td>2</td><td>2020년</td><td>3</td><td>308</td><td>3</td></tr><tr><th>8</th><td>1</td><td>2</td><td>2020년</td><td>4</td><td>179</td><td>4</td></tr></tbody></table></div>"
      ],
      "text/latex": [
       "\\begin{tabular}{r|cccccc}\n",
       "\t& age & year & years & variable & value & room\\\\\n",
       "\t\\hline\n",
       "\t& Int64 & Int64 & String & String & Int64 & Int64\\\\\n",
       "\t\\hline\n",
       "\t1 & 1 & 1 & 2015년 & 1 & 561 & 1 \\\\\n",
       "\t2 & 1 & 1 & 2015년 & 2 & 134 & 2 \\\\\n",
       "\t3 & 1 & 1 & 2015년 & 3 & 92 & 3 \\\\\n",
       "\t4 & 1 & 1 & 2015년 & 4 & 91 & 4 \\\\\n",
       "\t5 & 1 & 2 & 2020년 & 1 & 399 & 1 \\\\\n",
       "\t6 & 1 & 2 & 2020년 & 2 & 457 & 2 \\\\\n",
       "\t7 & 1 & 2 & 2020년 & 3 & 308 & 3 \\\\\n",
       "\t8 & 1 & 2 & 2020년 & 4 & 179 & 4 \\\\\n",
       "\\end{tabular}\n"
      ],
      "text/plain": [
       "\u001b[1m8×6 DataFrame\u001b[0m\n",
       "\u001b[1m Row \u001b[0m│\u001b[1m age   \u001b[0m\u001b[1m year  \u001b[0m\u001b[1m years  \u001b[0m\u001b[1m variable \u001b[0m\u001b[1m value \u001b[0m\u001b[1m room  \u001b[0m\n",
       "\u001b[1m     \u001b[0m│\u001b[90m Int64 \u001b[0m\u001b[90m Int64 \u001b[0m\u001b[90m String \u001b[0m\u001b[90m String   \u001b[0m\u001b[90m Int64 \u001b[0m\u001b[90m Int64 \u001b[0m\n",
       "─────┼──────────────────────────────────────────────\n",
       "   1 │     1      1  2015년  1           561      1\n",
       "   2 │     1      1  2015년  2           134      2\n",
       "   3 │     1      1  2015년  3            92      3\n",
       "   4 │     1      1  2015년  4            91      4\n",
       "   5 │     1      2  2020년  1           399      1\n",
       "   6 │     1      2  2020년  2           457      2\n",
       "   7 │     1      2  2020년  3           308      3\n",
       "   8 │     1      2  2020년  4           179      4"
      ]
     },
     "execution_count": 27,
     "metadata": {},
     "output_type": "execute_result"
    }
   ],
   "source": [
    "rooms_20 = subset(rooms, :age => x -> x .== (1))"
   ]
  },
  {
   "cell_type": "markdown",
   "id": "57aeec26",
   "metadata": {},
   "source": [
    "### 3.1.2. 그래프 그리기"
   ]
  },
  {
   "cell_type": "code",
   "execution_count": 28,
   "id": "4bfedb23",
   "metadata": {},
   "outputs": [
    {
     "data": {
      "image/png": "[encoded data removed]",
      "text/plain": [
       "Figure()"
      ]
     },
     "execution_count": 28,
     "metadata": {},
     "output_type": "execute_result"
    }
   ],
   "source": [
    "colors = Makie.wong_colors()\n",
    "\n",
    "# Figure and Axis\n",
    "fig = Figure()\n",
    "ax = Axis(fig[1,1], xticks = (1:2, [\"2015년\", \"2020년\"]),\n",
    "        xlabel = \"연도\", ylabel = \"20대 1인가구 수\")\n",
    "\n",
    "supertitle = Label(fig[0, :], \"20대 가구 사용 방 수\", textsize = 30)\n",
    "\n",
    "# Plot\n",
    "barplot!(ax, rooms.year, rooms.value, dodge = rooms.room,\n",
    "        color = colors[rooms.room])\n",
    "\n",
    "# Legend\n",
    "labels = [\"1개\", \"2개\", \"3개\", \"4개 이상\"]\n",
    "elements = [PolyElement(polycolor = colors[i]) for i in 1:length(labels)]\n",
    "title = \"20대 1인 가구 사용방수\"\n",
    "\n",
    "Legend(fig[1,1], elements, labels, title, orientation=:horizontal, tellwidth = true, tellheight=false)\n",
    "\n",
    "fig"
   ]
  },
  {
   "cell_type": "markdown",
   "id": "5f292e07",
   "metadata": {},
   "source": [
    "## 3.2. 가구 비중 분석"
   ]
  },
  {
   "cell_type": "markdown",
   "id": "6230ede8",
   "metadata": {},
   "source": [
    "- 상황을 좀 더 명확하게 파악하기 위해, 20대 1인가구 중 사용방수별로 차지하는 비중을 보기로 했다.  \n",
    "- 때로는 절대수치를 보는 것보다 비중을 보는 게 더 정확할 때가 있다."
   ]
  },
  {
   "cell_type": "markdown",
   "id": "2c0699a3",
   "metadata": {},
   "source": [
    "### 3.2.1. 데이터프레임 구축"
   ]
  },
  {
   "cell_type": "markdown",
   "id": "36d26e0a",
   "metadata": {},
   "source": [
    "- 전체 1인가구 데이터에서 20대 1인 가구만 뽑아내 분석해 본다.  \n",
    "- 먼저 전체 데이터프레임을 재구축한다."
   ]
  },
  {
   "cell_type": "code",
   "execution_count": 29,
   "id": "ce1422cb",
   "metadata": {},
   "outputs": [
    {
     "name": "stdout",
     "output_type": "stream",
     "text": [
      "insertcols!(room15, 2, :year => 1, :years => \"2015년\") = 6×7 DataFrame\n",
      " Row │ age    year   years   1          2         3         4\n",
      "     │ Int64  Int64  String  Float64    Float64   Float64   Float64\n",
      "─────┼───────────────────────────────────────────────────────────────\n",
      "   1 │     1      1  2015년  0.638952   0.15262   0.104784  0.103645\n",
      "   2 │     2      1  2015년  0.385176   0.173755  0.219927  0.222357\n",
      "   3 │     3      1  2015년  0.282895   0.175     0.264474  0.277632\n",
      "   4 │     4      1  2015년  0.198606   0.173055  0.29849   0.329849\n",
      "   5 │     5      1  2015년  0.110204   0.15102   0.315646  0.423129\n",
      "   6 │     6      1  2015년  0.0632582  0.139515  0.329289  0.467938\n",
      "insertcols!(room20, 2, :year => 2, :years => \"2020년\") = 6×7 DataFrame\n",
      " Row │ age    year   years   1          2         3         4\n",
      "     │ Int64  Int64  String  Float64    Float64   Float64   Float64\n",
      "─────┼───────────────────────────────────────────────────────────────\n",
      "   1 │     1      2  2020년  0.297096   0.340283  0.229337  0.133284\n",
      "   2 │     2      2  2020년  0.147085   0.263677  0.299552  0.290583\n",
      "   3 │     3      2  2020년  0.127212   0.190265  0.313053  0.368363\n",
      "   4 │     4      2  2020년  0.12127    0.162656  0.326275  0.389798\n",
      "   5 │     5      2  2020년  0.0885467  0.129933  0.340712  0.440808\n",
      "   6 │     6      2  2020년  0.0507488  0.116473  0.352745  0.480865\n"
     ]
    },
    {
     "data": {
      "text/html": [
       "<div class=\"data-frame\"><p>6 rows × 7 columns</p><table class=\"data-frame\"><thead><tr><th></th><th>age</th><th>year</th><th>years</th><th>1</th><th>2</th><th>3</th><th>4</th></tr><tr><th></th><th title=\"Int64\">Int64</th><th title=\"Int64\">Int64</th><th title=\"String\">String</th><th title=\"Float64\">Float64</th><th title=\"Float64\">Float64</th><th title=\"Float64\">Float64</th><th title=\"Float64\">Float64</th></tr></thead><tbody><tr><th>1</th><td>1</td><td>2</td><td>2020년</td><td>0.297096</td><td>0.340283</td><td>0.229337</td><td>0.133284</td></tr><tr><th>2</th><td>2</td><td>2</td><td>2020년</td><td>0.147085</td><td>0.263677</td><td>0.299552</td><td>0.290583</td></tr><tr><th>3</th><td>3</td><td>2</td><td>2020년</td><td>0.127212</td><td>0.190265</td><td>0.313053</td><td>0.368363</td></tr><tr><th>4</th><td>4</td><td>2</td><td>2020년</td><td>0.12127</td><td>0.162656</td><td>0.326275</td><td>0.389798</td></tr><tr><th>5</th><td>5</td><td>2</td><td>2020년</td><td>0.0885467</td><td>0.129933</td><td>0.340712</td><td>0.440808</td></tr><tr><th>6</th><td>6</td><td>2</td><td>2020년</td><td>0.0507488</td><td>0.116473</td><td>0.352745</td><td>0.480865</td></tr></tbody></table></div>"
      ],
      "text/latex": [
       "\\begin{tabular}{r|ccccccc}\n",
       "\t& age & year & years & 1 & 2 & 3 & 4\\\\\n",
       "\t\\hline\n",
       "\t& Int64 & Int64 & String & Float64 & Float64 & Float64 & Float64\\\\\n",
       "\t\\hline\n",
       "\t1 & 1 & 2 & 2020년 & 0.297096 & 0.340283 & 0.229337 & 0.133284 \\\\\n",
       "\t2 & 2 & 2 & 2020년 & 0.147085 & 0.263677 & 0.299552 & 0.290583 \\\\\n",
       "\t3 & 3 & 2 & 2020년 & 0.127212 & 0.190265 & 0.313053 & 0.368363 \\\\\n",
       "\t4 & 4 & 2 & 2020년 & 0.12127 & 0.162656 & 0.326275 & 0.389798 \\\\\n",
       "\t5 & 5 & 2 & 2020년 & 0.0885467 & 0.129933 & 0.340712 & 0.440808 \\\\\n",
       "\t6 & 6 & 2 & 2020년 & 0.0507488 & 0.116473 & 0.352745 & 0.480865 \\\\\n",
       "\\end{tabular}\n"
      ],
      "text/plain": [
       "\u001b[1m6×7 DataFrame\u001b[0m\n",
       "\u001b[1m Row \u001b[0m│\u001b[1m age   \u001b[0m\u001b[1m year  \u001b[0m\u001b[1m years  \u001b[0m\u001b[1m 1         \u001b[0m\u001b[1m 2        \u001b[0m\u001b[1m 3        \u001b[0m\u001b[1m 4        \u001b[0m\n",
       "\u001b[1m     \u001b[0m│\u001b[90m Int64 \u001b[0m\u001b[90m Int64 \u001b[0m\u001b[90m String \u001b[0m\u001b[90m Float64   \u001b[0m\u001b[90m Float64  \u001b[0m\u001b[90m Float64  \u001b[0m\u001b[90m Float64  \u001b[0m\n",
       "─────┼───────────────────────────────────────────────────────────────\n",
       "   1 │     1      2  2020년  0.297096   0.340283  0.229337  0.133284\n",
       "   2 │     2      2  2020년  0.147085   0.263677  0.299552  0.290583\n",
       "   3 │     3      2  2020년  0.127212   0.190265  0.313053  0.368363\n",
       "   4 │     4      2  2020년  0.12127    0.162656  0.326275  0.389798\n",
       "   5 │     5      2  2020년  0.0885467  0.129933  0.340712  0.440808\n",
       "   6 │     6      2  2020년  0.0507488  0.116473  0.352745  0.480865"
      ]
     },
     "execution_count": 29,
     "metadata": {},
     "output_type": "execute_result"
    }
   ],
   "source": [
    "room15 = CSV.read(\"G:\\\\내 드라이브\\\\ABM\\\\경제코드\\\\2.청년가구의 방\\\\세대별사용방수_비율_2015.csv\", DataFrame, header=true)\n",
    "room20 = CSV.read(\"G:\\\\내 드라이브\\\\ABM\\\\경제코드\\\\2.청년가구의 방\\\\세대별사용방수_비율_2020.csv\", DataFrame, header=true)\n",
    "rename!(room15, :Column1 => :age)\n",
    "rename!(room20, :Column1 => :age)\n",
    "@show insertcols!(room15, 2, :year => 1, :years => \"2015년\") # 1 = year 2015\n",
    "@show insertcols!(room20, 2, :year => 2, :years => \"2020년\") # 2 = year 2020"
   ]
  },
  {
   "cell_type": "markdown",
   "id": "2c1a33af",
   "metadata": {},
   "source": [
    "- 전체 1인가구 분석 때와 마찬가지로 longform으로 변환하며 두 개 연도 데이터를 합친다."
   ]
  },
  {
   "cell_type": "code",
   "execution_count": 30,
   "id": "00f14e44",
   "metadata": {},
   "outputs": [
    {
     "data": {
      "text/html": [
       "<div class=\"data-frame\"><p>48 rows × 5 columns</p><table class=\"data-frame\"><thead><tr><th></th><th>age</th><th>year</th><th>years</th><th>variable</th><th>value</th></tr><tr><th></th><th title=\"Int64\">Int64</th><th title=\"Int64\">Int64</th><th title=\"String\">String</th><th title=\"String\">String</th><th title=\"Float64\">Float64</th></tr></thead><tbody><tr><th>1</th><td>1</td><td>1</td><td>2015년</td><td>1</td><td>0.638952</td></tr><tr><th>2</th><td>2</td><td>1</td><td>2015년</td><td>1</td><td>0.385176</td></tr><tr><th>3</th><td>3</td><td>1</td><td>2015년</td><td>1</td><td>0.282895</td></tr><tr><th>4</th><td>4</td><td>1</td><td>2015년</td><td>1</td><td>0.198606</td></tr><tr><th>5</th><td>5</td><td>1</td><td>2015년</td><td>1</td><td>0.110204</td></tr><tr><th>6</th><td>6</td><td>1</td><td>2015년</td><td>1</td><td>0.0632582</td></tr><tr><th>7</th><td>1</td><td>1</td><td>2015년</td><td>2</td><td>0.15262</td></tr><tr><th>8</th><td>2</td><td>1</td><td>2015년</td><td>2</td><td>0.173755</td></tr><tr><th>9</th><td>3</td><td>1</td><td>2015년</td><td>2</td><td>0.175</td></tr><tr><th>10</th><td>4</td><td>1</td><td>2015년</td><td>2</td><td>0.173055</td></tr><tr><th>11</th><td>5</td><td>1</td><td>2015년</td><td>2</td><td>0.15102</td></tr><tr><th>12</th><td>6</td><td>1</td><td>2015년</td><td>2</td><td>0.139515</td></tr><tr><th>13</th><td>1</td><td>1</td><td>2015년</td><td>3</td><td>0.104784</td></tr><tr><th>14</th><td>2</td><td>1</td><td>2015년</td><td>3</td><td>0.219927</td></tr><tr><th>15</th><td>3</td><td>1</td><td>2015년</td><td>3</td><td>0.264474</td></tr><tr><th>16</th><td>4</td><td>1</td><td>2015년</td><td>3</td><td>0.29849</td></tr><tr><th>17</th><td>5</td><td>1</td><td>2015년</td><td>3</td><td>0.315646</td></tr><tr><th>18</th><td>6</td><td>1</td><td>2015년</td><td>3</td><td>0.329289</td></tr><tr><th>19</th><td>1</td><td>1</td><td>2015년</td><td>4</td><td>0.103645</td></tr><tr><th>20</th><td>2</td><td>1</td><td>2015년</td><td>4</td><td>0.222357</td></tr><tr><th>21</th><td>3</td><td>1</td><td>2015년</td><td>4</td><td>0.277632</td></tr><tr><th>22</th><td>4</td><td>1</td><td>2015년</td><td>4</td><td>0.329849</td></tr><tr><th>23</th><td>5</td><td>1</td><td>2015년</td><td>4</td><td>0.423129</td></tr><tr><th>24</th><td>6</td><td>1</td><td>2015년</td><td>4</td><td>0.467938</td></tr><tr><th>25</th><td>1</td><td>2</td><td>2020년</td><td>1</td><td>0.297096</td></tr><tr><th>26</th><td>2</td><td>2</td><td>2020년</td><td>1</td><td>0.147085</td></tr><tr><th>27</th><td>3</td><td>2</td><td>2020년</td><td>1</td><td>0.127212</td></tr><tr><th>28</th><td>4</td><td>2</td><td>2020년</td><td>1</td><td>0.12127</td></tr><tr><th>29</th><td>5</td><td>2</td><td>2020년</td><td>1</td><td>0.0885467</td></tr><tr><th>30</th><td>6</td><td>2</td><td>2020년</td><td>1</td><td>0.0507488</td></tr><tr><th>&vellip;</th><td>&vellip;</td><td>&vellip;</td><td>&vellip;</td><td>&vellip;</td><td>&vellip;</td></tr></tbody></table></div>"
      ],
      "text/latex": [
       "\\begin{tabular}{r|ccccc}\n",
       "\t& age & year & years & variable & value\\\\\n",
       "\t\\hline\n",
       "\t& Int64 & Int64 & String & String & Float64\\\\\n",
       "\t\\hline\n",
       "\t1 & 1 & 1 & 2015년 & 1 & 0.638952 \\\\\n",
       "\t2 & 2 & 1 & 2015년 & 1 & 0.385176 \\\\\n",
       "\t3 & 3 & 1 & 2015년 & 1 & 0.282895 \\\\\n",
       "\t4 & 4 & 1 & 2015년 & 1 & 0.198606 \\\\\n",
       "\t5 & 5 & 1 & 2015년 & 1 & 0.110204 \\\\\n",
       "\t6 & 6 & 1 & 2015년 & 1 & 0.0632582 \\\\\n",
       "\t7 & 1 & 1 & 2015년 & 2 & 0.15262 \\\\\n",
       "\t8 & 2 & 1 & 2015년 & 2 & 0.173755 \\\\\n",
       "\t9 & 3 & 1 & 2015년 & 2 & 0.175 \\\\\n",
       "\t10 & 4 & 1 & 2015년 & 2 & 0.173055 \\\\\n",
       "\t11 & 5 & 1 & 2015년 & 2 & 0.15102 \\\\\n",
       "\t12 & 6 & 1 & 2015년 & 2 & 0.139515 \\\\\n",
       "\t13 & 1 & 1 & 2015년 & 3 & 0.104784 \\\\\n",
       "\t14 & 2 & 1 & 2015년 & 3 & 0.219927 \\\\\n",
       "\t15 & 3 & 1 & 2015년 & 3 & 0.264474 \\\\\n",
       "\t16 & 4 & 1 & 2015년 & 3 & 0.29849 \\\\\n",
       "\t17 & 5 & 1 & 2015년 & 3 & 0.315646 \\\\\n",
       "\t18 & 6 & 1 & 2015년 & 3 & 0.329289 \\\\\n",
       "\t19 & 1 & 1 & 2015년 & 4 & 0.103645 \\\\\n",
       "\t20 & 2 & 1 & 2015년 & 4 & 0.222357 \\\\\n",
       "\t21 & 3 & 1 & 2015년 & 4 & 0.277632 \\\\\n",
       "\t22 & 4 & 1 & 2015년 & 4 & 0.329849 \\\\\n",
       "\t23 & 5 & 1 & 2015년 & 4 & 0.423129 \\\\\n",
       "\t24 & 6 & 1 & 2015년 & 4 & 0.467938 \\\\\n",
       "\t25 & 1 & 2 & 2020년 & 1 & 0.297096 \\\\\n",
       "\t26 & 2 & 2 & 2020년 & 1 & 0.147085 \\\\\n",
       "\t27 & 3 & 2 & 2020년 & 1 & 0.127212 \\\\\n",
       "\t28 & 4 & 2 & 2020년 & 1 & 0.12127 \\\\\n",
       "\t29 & 5 & 2 & 2020년 & 1 & 0.0885467 \\\\\n",
       "\t30 & 6 & 2 & 2020년 & 1 & 0.0507488 \\\\\n",
       "\t$\\dots$ & $\\dots$ & $\\dots$ & $\\dots$ & $\\dots$ & $\\dots$ \\\\\n",
       "\\end{tabular}\n"
      ],
      "text/plain": [
       "\u001b[1m48×5 DataFrame\u001b[0m\n",
       "\u001b[1m Row \u001b[0m│\u001b[1m age   \u001b[0m\u001b[1m year  \u001b[0m\u001b[1m years  \u001b[0m\u001b[1m variable \u001b[0m\u001b[1m value     \u001b[0m\n",
       "\u001b[1m     \u001b[0m│\u001b[90m Int64 \u001b[0m\u001b[90m Int64 \u001b[0m\u001b[90m String \u001b[0m\u001b[90m String   \u001b[0m\u001b[90m Float64   \u001b[0m\n",
       "─────┼───────────────────────────────────────────\n",
       "   1 │     1      1  2015년  1         0.638952\n",
       "   2 │     2      1  2015년  1         0.385176\n",
       "   3 │     3      1  2015년  1         0.282895\n",
       "   4 │     4      1  2015년  1         0.198606\n",
       "   5 │     5      1  2015년  1         0.110204\n",
       "   6 │     6      1  2015년  1         0.0632582\n",
       "   7 │     1      1  2015년  2         0.15262\n",
       "   8 │     2      1  2015년  2         0.173755\n",
       "   9 │     3      1  2015년  2         0.175\n",
       "  10 │     4      1  2015년  2         0.173055\n",
       "  11 │     5      1  2015년  2         0.15102\n",
       "  ⋮  │   ⋮      ⋮      ⋮        ⋮          ⋮\n",
       "  39 │     3      2  2020년  3         0.313053\n",
       "  40 │     4      2  2020년  3         0.326275\n",
       "  41 │     5      2  2020년  3         0.340712\n",
       "  42 │     6      2  2020년  3         0.352745\n",
       "  43 │     1      2  2020년  4         0.133284\n",
       "  44 │     2      2  2020년  4         0.290583\n",
       "  45 │     3      2  2020년  4         0.368363\n",
       "  46 │     4      2  2020년  4         0.389798\n",
       "  47 │     5      2  2020년  4         0.440808\n",
       "  48 │     6      2  2020년  4         0.480865\n",
       "\u001b[36m                                  27 rows omitted\u001b[0m"
      ]
     },
     "execution_count": 30,
     "metadata": {},
     "output_type": "execute_result"
    }
   ],
   "source": [
    "rooms = vcat(stack(room15, [:4, :5, :6, :7]), stack(room20, [:4, :5, :6, :7]))"
   ]
  },
  {
   "cell_type": "markdown",
   "id": "b33342a5",
   "metadata": {},
   "source": [
    "- 위와 마찬가지로 정수형으로 변환한다."
   ]
  },
  {
   "cell_type": "code",
   "execution_count": 31,
   "id": "b7e7dc16",
   "metadata": {},
   "outputs": [
    {
     "data": {
      "text/plain": [
       "48-element Vector{Int64}:\n",
       " 1\n",
       " 1\n",
       " 1\n",
       " 1\n",
       " 1\n",
       " 1\n",
       " 2\n",
       " 2\n",
       " 2\n",
       " 2\n",
       " 2\n",
       " 2\n",
       " 3\n",
       " ⋮\n",
       " 3\n",
       " 3\n",
       " 3\n",
       " 3\n",
       " 3\n",
       " 3\n",
       " 4\n",
       " 4\n",
       " 4\n",
       " 4\n",
       " 4\n",
       " 4"
      ]
     },
     "execution_count": 31,
     "metadata": {},
     "output_type": "execute_result"
    }
   ],
   "source": [
    "rooms.room = parse.(Int, rooms.variable)\n",
    "#rooms.num = parse.(Float64, rooms.value)"
   ]
  },
  {
   "cell_type": "markdown",
   "id": "d74ff892",
   "metadata": {},
   "source": [
    "- 20대 데이터만 subset으로 뽑아내 rooms_20 데이터프레임을 별도로 만든다."
   ]
  },
  {
   "cell_type": "code",
   "execution_count": 32,
   "id": "a1c6bbaf",
   "metadata": {},
   "outputs": [
    {
     "data": {
      "text/html": [
       "<div class=\"data-frame\"><p>8 rows × 6 columns</p><table class=\"data-frame\"><thead><tr><th></th><th>age</th><th>year</th><th>years</th><th>variable</th><th>value</th><th>room</th></tr><tr><th></th><th title=\"Int64\">Int64</th><th title=\"Int64\">Int64</th><th title=\"String\">String</th><th title=\"String\">String</th><th title=\"Float64\">Float64</th><th title=\"Int64\">Int64</th></tr></thead><tbody><tr><th>1</th><td>1</td><td>1</td><td>2015년</td><td>1</td><td>0.638952</td><td>1</td></tr><tr><th>2</th><td>1</td><td>1</td><td>2015년</td><td>2</td><td>0.15262</td><td>2</td></tr><tr><th>3</th><td>1</td><td>1</td><td>2015년</td><td>3</td><td>0.104784</td><td>3</td></tr><tr><th>4</th><td>1</td><td>1</td><td>2015년</td><td>4</td><td>0.103645</td><td>4</td></tr><tr><th>5</th><td>1</td><td>2</td><td>2020년</td><td>1</td><td>0.297096</td><td>1</td></tr><tr><th>6</th><td>1</td><td>2</td><td>2020년</td><td>2</td><td>0.340283</td><td>2</td></tr><tr><th>7</th><td>1</td><td>2</td><td>2020년</td><td>3</td><td>0.229337</td><td>3</td></tr><tr><th>8</th><td>1</td><td>2</td><td>2020년</td><td>4</td><td>0.133284</td><td>4</td></tr></tbody></table></div>"
      ],
      "text/latex": [
       "\\begin{tabular}{r|cccccc}\n",
       "\t& age & year & years & variable & value & room\\\\\n",
       "\t\\hline\n",
       "\t& Int64 & Int64 & String & String & Float64 & Int64\\\\\n",
       "\t\\hline\n",
       "\t1 & 1 & 1 & 2015년 & 1 & 0.638952 & 1 \\\\\n",
       "\t2 & 1 & 1 & 2015년 & 2 & 0.15262 & 2 \\\\\n",
       "\t3 & 1 & 1 & 2015년 & 3 & 0.104784 & 3 \\\\\n",
       "\t4 & 1 & 1 & 2015년 & 4 & 0.103645 & 4 \\\\\n",
       "\t5 & 1 & 2 & 2020년 & 1 & 0.297096 & 1 \\\\\n",
       "\t6 & 1 & 2 & 2020년 & 2 & 0.340283 & 2 \\\\\n",
       "\t7 & 1 & 2 & 2020년 & 3 & 0.229337 & 3 \\\\\n",
       "\t8 & 1 & 2 & 2020년 & 4 & 0.133284 & 4 \\\\\n",
       "\\end{tabular}\n"
      ],
      "text/plain": [
       "\u001b[1m8×6 DataFrame\u001b[0m\n",
       "\u001b[1m Row \u001b[0m│\u001b[1m age   \u001b[0m\u001b[1m year  \u001b[0m\u001b[1m years  \u001b[0m\u001b[1m variable \u001b[0m\u001b[1m value    \u001b[0m\u001b[1m room  \u001b[0m\n",
       "\u001b[1m     \u001b[0m│\u001b[90m Int64 \u001b[0m\u001b[90m Int64 \u001b[0m\u001b[90m String \u001b[0m\u001b[90m String   \u001b[0m\u001b[90m Float64  \u001b[0m\u001b[90m Int64 \u001b[0m\n",
       "─────┼─────────────────────────────────────────────────\n",
       "   1 │     1      1  2015년  1         0.638952      1\n",
       "   2 │     1      1  2015년  2         0.15262       2\n",
       "   3 │     1      1  2015년  3         0.104784      3\n",
       "   4 │     1      1  2015년  4         0.103645      4\n",
       "   5 │     1      2  2020년  1         0.297096      1\n",
       "   6 │     1      2  2020년  2         0.340283      2\n",
       "   7 │     1      2  2020년  3         0.229337      3\n",
       "   8 │     1      2  2020년  4         0.133284      4"
      ]
     },
     "execution_count": 32,
     "metadata": {},
     "output_type": "execute_result"
    }
   ],
   "source": [
    "rooms_20 = subset(rooms, :age => x -> x .== (1))"
   ]
  },
  {
   "cell_type": "markdown",
   "id": "4eb87fac",
   "metadata": {},
   "source": [
    "### 3.2.2. 그래프 그리기"
   ]
  },
  {
   "cell_type": "code",
   "execution_count": 33,
   "id": "614ffa38",
   "metadata": {},
   "outputs": [
    {
     "data": {
      "image/png": "[encoded data removed]",
      "text/plain": [
       "Figure()"
      ]
     },
     "execution_count": 33,
     "metadata": {},
     "output_type": "execute_result"
    }
   ],
   "source": [
    "colors = Makie.wong_colors()\n",
    "\n",
    "# Figure and Axis\n",
    "fig = Figure()\n",
    "ax = Axis(fig[1,1], xticks = (1:2, [\"2015년\", \"2020년\"]),\n",
    "        xlabel = \"연도\", ylabel = \"20대 1인가구 중 비중\")\n",
    "\n",
    "supertitle = Label(fig[0, :], \"20대 가구 사용 방 수\", textsize = 30)\n",
    "\n",
    "# Plot\n",
    "barplot!(ax, rooms.year, rooms.value, dodge = rooms.room,\n",
    "        color = colors[rooms.room])\n",
    "\n",
    "# Legend\n",
    "labels = [\"1개\", \"2개\", \"3개\", \"4개 이상\"]\n",
    "elements = [PolyElement(polycolor = colors[i]) for i in 1:length(labels)]\n",
    "title = \"20대 1인 가구 사용방수\"\n",
    "\n",
    "Legend(fig[1,1], elements, labels, title, orientation=:horizontal, tellwidth = true, tellheight=false)\n",
    "\n",
    "fig"
   ]
  }
 ],
 "metadata": {
  "kernelspec": {
   "display_name": "Julia 1.6.0",
   "language": "julia",
   "name": "julia-1.6"
  },
  "language_info": {
   "file_extension": ".jl",
   "mimetype": "application/julia",
   "name": "julia",
   "version": "1.6.0"
  },
  "toc-autonumbering": true
 },
 "nbformat": 4,
 "nbformat_minor": 5
}
